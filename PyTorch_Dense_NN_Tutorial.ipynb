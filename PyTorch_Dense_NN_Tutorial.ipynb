{
 "cells": [
  {
   "cell_type": "markdown",
   "metadata": {},
   "source": [
    "# Tutorial of A Simple Dense Neural Network Based on PyTorch"
   ]
  },
  {
   "cell_type": "markdown",
   "metadata": {},
   "source": [
    "Import the necessary packets"
   ]
  },
  {
   "cell_type": "code",
   "execution_count": 2,
   "metadata": {},
   "outputs": [],
   "source": [
    "import torch \n",
    "import torch.nn as nn \n",
    "import torch.optim"
   ]
  },
  {
   "cell_type": "markdown",
   "metadata": {},
   "source": [
    "Get the Data"
   ]
  },
  {
   "cell_type": "code",
   "execution_count": 3,
   "metadata": {},
   "outputs": [],
   "source": [
    "# setting te random seed of the code.\n",
    "torch.manual_seed(seed=0)\n",
    "\n",
    "sample_num \t= 1000 \n",
    "features \t= torch.rand(sample_num, 2)\n",
    "noises \t\t= torch.randn(sample_num)\n",
    "\n",
    "def himmelblau(x):\n",
    "\treturn (x[:,0] ** 2 + x[:,1] - 11) ** 2 + (x[:, 0] + x[:, 1] ** 2 - 7) ** 2\n",
    "\n",
    "hims = himmelblau(features) * 0.01\n",
    "labels = hims + noises \n"
   ]
  },
  {
   "cell_type": "markdown",
   "metadata": {},
   "source": [
    "Split Data in three sets, Train Set, Validation Set, Test Set"
   ]
  },
  {
   "cell_type": "code",
   "execution_count": 4,
   "metadata": {},
   "outputs": [
    {
     "name": "stdout",
     "output_type": "stream",
     "text": [
      "Train Set Mse0.918333, Validation Set Mse0.902182, Test Set Mse0.978382\n"
     ]
    }
   ],
   "source": [
    "\n",
    "train_num, validate_num, test_num = 600, 200, 200 \n",
    "train_mse = (noises[:train_num] ** 2 ).mean()\n",
    "validate_mse = (noises[train_num:-test_num] ** 2).mean()\n",
    "test_mse = (noises[-test_num:]**2).mean()\n",
    "\n",
    "print(\"Train Set Mse{:g}, Validation Set Mse{:g}, Test Set Mse{:g}\".format(train_mse, validate_mse, test_mse))\n",
    "\n"
   ]
  },
  {
   "cell_type": "markdown",
   "metadata": {},
   "source": [
    "Build the Network"
   ]
  },
  {
   "cell_type": "code",
   "execution_count": 5,
   "metadata": {},
   "outputs": [
    {
     "name": "stdout",
     "output_type": "stream",
     "text": [
      "Neural Network Structure Sequential(\n",
      "  (0): Linear(in_features=2, out_features=6, bias=True)\n",
      "  (1): Sigmoid()\n",
      "  (2): Linear(in_features=6, out_features=2, bias=True)\n",
      "  (3): Sigmoid()\n",
      "  (4): Linear(in_features=2, out_features=1, bias=True)\n",
      ") \n"
     ]
    }
   ],
   "source": [
    "## The layers num of hidden layer\n",
    "hidden_features = [6, 2]\n",
    "\n",
    "layers = [nn.Linear(2, hidden_features[0]), ]\n",
    "for idx, hidden_feature in enumerate(hidden_features):\n",
    "\tlayers.append(nn.Sigmoid())\n",
    "\tnext_hidden_feature = hidden_features[idx + 1] \\\n",
    "\t\tif idx + 1 < len(hidden_features) else 1\n",
    "\tlayers.append(nn.Linear(hidden_feature, next_hidden_feature))\n",
    "net = nn.Sequential(*layers)\n",
    "print(\"Neural Network Structure {} \".format(net))"
   ]
  },
  {
   "cell_type": "markdown",
   "metadata": {},
   "source": [
    "Train the Neural Network"
   ]
  },
  {
   "cell_type": "code",
   "execution_count": 6,
   "metadata": {},
   "outputs": [
    {
     "name": "stdout",
     "output_type": "stream",
     "text": [
      "STEP: 0, TRAINING SET MSE: 4.0026, VALIDATE SET MSE: 4.05553\n",
      "STEP: 10000, TRAINING SET MSE: 0.916708, VALIDATE SET MSE: 0.909088\n",
      "STEP: 20000, TRAINING SET MSE: 0.888613, VALIDATE SET MSE: 0.932777\n",
      "STEP: 30000, TRAINING SET MSE: 0.86245, VALIDATE SET MSE: 0.962115\n",
      "STEP: 40000, TRAINING SET MSE: 0.84856, VALIDATE SET MSE: 0.96147\n",
      "STEP: 50000, TRAINING SET MSE: 0.84351, VALIDATE SET MSE: 0.976016\n",
      "STEP: 60000, TRAINING SET MSE: 0.840887, VALIDATE SET MSE: 0.989631\n",
      "STEP: 70000, TRAINING SET MSE: 0.839424, VALIDATE SET MSE: 1.00203\n",
      "STEP: 80000, TRAINING SET MSE: 0.838685, VALIDATE SET MSE: 1.0123\n",
      "STEP: 90000, TRAINING SET MSE: 0.838137, VALIDATE SET MSE: 1.01673\n",
      "STEP: 99999, TRAINING SET MSE0.837631, VALIDATE SET MSE1.01889\n"
     ]
    }
   ],
   "source": [
    "optimizer = torch.optim.Adam(net.parameters())\n",
    "criterion = nn.MSELoss() \n",
    "\n",
    "train_entry_num = 600 # Train Set Num \n",
    "\n",
    "n_iter = 100000 # Iteration Times \n",
    "for step in range(n_iter):\n",
    "\toutputs = net(features)\n",
    "\tpreds = outputs.squeeze()\n",
    "\n",
    "\tloss_train = criterion(preds[:train_entry_num], labels[:train_entry_num])\n",
    "\tloss_validate = criterion(preds[train_num: -test_num], labels[train_num: -test_num] )\n",
    "\tif step % 10000 == 0 :\n",
    "\t\tprint(\"STEP: {:g}, TRAINING SET MSE: {:g}, VALIDATE SET MSE: {:g}\".format(step, loss_train, loss_validate))\n",
    "\toptimizer.zero_grad()\n",
    "\tloss_train.backward()\n",
    "\toptimizer.step()\n",
    "print(\"STEP: {:g}, TRAINING SET MSE{:g}, VALIDATE SET MSE{:g}\".format(step, loss_train, loss_validate))"
   ]
  }
 ],
 "metadata": {
  "kernelspec": {
   "display_name": "Python 3",
   "language": "python",
   "name": "python3"
  },
  "language_info": {
   "codemirror_mode": {
    "name": "ipython",
    "version": 3
   },
   "file_extension": ".py",
   "mimetype": "text/x-python",
   "name": "python",
   "nbconvert_exporter": "python",
   "pygments_lexer": "ipython3",
   "version": "3.6.6"
  }
 },
 "nbformat": 4,
 "nbformat_minor": 2
}
